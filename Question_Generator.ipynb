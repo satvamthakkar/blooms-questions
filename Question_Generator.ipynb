{
  "metadata": {
    "kernelspec": {
      "language": "python",
      "display_name": "Python 3",
      "name": "python3"
    },
    "language_info": {
      "name": "python",
      "version": "3.10.13",
      "mimetype": "text/x-python",
      "codemirror_mode": {
        "name": "ipython",
        "version": 3
      },
      "pygments_lexer": "ipython3",
      "nbconvert_exporter": "python",
      "file_extension": ".py"
    },
    "kaggle": {
      "accelerator": "gpu",
      "dataSources": [
        {
          "sourceId": 6835032,
          "sourceType": "datasetVersion",
          "datasetId": 3929641
        }
      ],
      "dockerImageVersionId": 30665,
      "isInternetEnabled": true,
      "language": "python",
      "sourceType": "notebook",
      "isGpuEnabled": true
    },
    "colab": {
      "provenance": [],
      "include_colab_link": true
    }
  },
  "nbformat_minor": 0,
  "nbformat": 4,
  "cells": [
    {
      "cell_type": "markdown",
      "metadata": {
        "id": "view-in-github",
        "colab_type": "text"
      },
      "source": [
        "<a href=\"https://colab.research.google.com/github/satvamthakkar/blooms-questions/blob/main/Question_Generator.ipynb\" target=\"_parent\"><img src=\"https://colab.research.google.com/assets/colab-badge.svg\" alt=\"Open In Colab\"/></a>"
      ]
    },
    {
      "cell_type": "code",
      "source": [
        "!pip3 install -q -U bitsandbytes==0.42.0\n",
        "!pip3 install -q -U peft==0.8.2\n",
        "!pip3 install -q -U trl==0.7.10\n",
        "!pip3 install -q -U accelerate==0.27.1\n",
        "!pip3 install -q -U datasets==2.17.0\n",
        "!pip3 install -q -U transformers==4.38.0"
      ],
      "metadata": {
        "_uuid": "8f2839f25d086af736a60e9eeb907d3b93b6e0e5",
        "_cell_guid": "b1076dfc-b9ad-4769-8c92-a6c4dae69d19",
        "execution": {
          "iopub.status.busy": "2024-04-01T21:11:04.245156Z",
          "iopub.execute_input": "2024-04-01T21:11:04.245498Z",
          "iopub.status.idle": "2024-04-01T21:12:47.505916Z",
          "shell.execute_reply.started": "2024-04-01T21:11:04.245471Z",
          "shell.execute_reply": "2024-04-01T21:12:47.504709Z"
        },
        "trusted": true,
        "id": "3yXmCbzlbM9x",
        "outputId": "c341b6c6-42cf-4f3d-9df8-780f5e2871fc"
      },
      "execution_count": null,
      "outputs": [
        {
          "name": "stdout",
          "text": "\u001b[31mERROR: pip's dependency resolver does not currently take into account all the packages that are installed. This behaviour is the source of the following dependency conflicts.\ncudf 23.8.0 requires cubinlinker, which is not installed.\ncudf 23.8.0 requires cupy-cuda11x>=12.0.0, which is not installed.\ncudf 23.8.0 requires ptxcompiler, which is not installed.\ncuml 23.8.0 requires cupy-cuda11x>=12.0.0, which is not installed.\ndask-cudf 23.8.0 requires cupy-cuda11x>=12.0.0, which is not installed.\napache-beam 2.46.0 requires dill<0.3.2,>=0.3.1.1, but you have dill 0.3.8 which is incompatible.\napache-beam 2.46.0 requires numpy<1.25.0,>=1.14.3, but you have numpy 1.26.4 which is incompatible.\napache-beam 2.46.0 requires pyarrow<10.0.0,>=3.0.0, but you have pyarrow 15.0.2 which is incompatible.\nbeatrix-jupyterlab 2023.128.151533 requires jupyterlab~=3.6.0, but you have jupyterlab 4.1.2 which is incompatible.\ncudf 23.8.0 requires cuda-python<12.0a0,>=11.7.1, but you have cuda-python 12.3.0 which is incompatible.\ncudf 23.8.0 requires pandas<1.6.0dev0,>=1.3, but you have pandas 2.1.4 which is incompatible.\ncudf 23.8.0 requires protobuf<5,>=4.21, but you have protobuf 3.20.3 which is incompatible.\ncudf 23.8.0 requires pyarrow==11.*, but you have pyarrow 15.0.2 which is incompatible.\ncuml 23.8.0 requires dask==2023.7.1, but you have dask 2024.2.0 which is incompatible.\ndask-cuda 23.8.0 requires dask==2023.7.1, but you have dask 2024.2.0 which is incompatible.\ndask-cuda 23.8.0 requires pandas<1.6.0dev0,>=1.3, but you have pandas 2.1.4 which is incompatible.\ndask-cudf 23.8.0 requires dask==2023.7.1, but you have dask 2024.2.0 which is incompatible.\ndask-cudf 23.8.0 requires pandas<1.6.0dev0,>=1.3, but you have pandas 2.1.4 which is incompatible.\ndistributed 2023.7.1 requires dask==2023.7.1, but you have dask 2024.2.0 which is incompatible.\ngcsfs 2023.12.2.post1 requires fsspec==2023.12.2, but you have fsspec 2023.10.0 which is incompatible.\nraft-dask 23.8.0 requires dask==2023.7.1, but you have dask 2024.2.0 which is incompatible.\ns3fs 2024.2.0 requires fsspec==2024.2.0, but you have fsspec 2023.10.0 which is incompatible.\u001b[0m\u001b[31m\n\u001b[0m",
          "output_type": "stream"
        }
      ]
    },
    {
      "cell_type": "code",
      "source": [
        "import os\n",
        "import transformers\n",
        "import torch\n",
        "from datasets import load_dataset\n",
        "from trl import SFTTrainer\n",
        "from peft import LoraConfig\n",
        "from transformers import AutoTokenizer, AutoModelForCausalLM\n",
        "from transformers import BitsAndBytesConfig, GemmaTokenizer"
      ],
      "metadata": {
        "execution": {
          "iopub.status.busy": "2024-04-01T21:13:05.283113Z",
          "iopub.execute_input": "2024-04-01T21:13:05.283478Z",
          "iopub.status.idle": "2024-04-01T21:13:22.703131Z",
          "shell.execute_reply.started": "2024-04-01T21:13:05.283445Z",
          "shell.execute_reply": "2024-04-01T21:13:22.702346Z"
        },
        "trusted": true,
        "id": "BH0CicMkbM90",
        "outputId": "0726c70b-3b53-408c-e4a1-ccb9c6ad2407"
      },
      "execution_count": null,
      "outputs": [
        {
          "name": "stderr",
          "text": "2024-04-01 21:13:14.294139: E external/local_xla/xla/stream_executor/cuda/cuda_dnn.cc:9261] Unable to register cuDNN factory: Attempting to register factory for plugin cuDNN when one has already been registered\n2024-04-01 21:13:14.294233: E external/local_xla/xla/stream_executor/cuda/cuda_fft.cc:607] Unable to register cuFFT factory: Attempting to register factory for plugin cuFFT when one has already been registered\n2024-04-01 21:13:14.424470: E external/local_xla/xla/stream_executor/cuda/cuda_blas.cc:1515] Unable to register cuBLAS factory: Attempting to register factory for plugin cuBLAS when one has already been registered\n",
          "output_type": "stream"
        }
      ]
    },
    {
      "cell_type": "code",
      "source": [
        "model_id = \"google/gemma-2b\"\n",
        "bnb_config = BitsAndBytesConfig(\n",
        "    load_in_4bit=True,\n",
        "    bnb_4bit_quant_type=\"nf4\",\n",
        "    bnb_4bit_compute_dtype=torch.bfloat16\n",
        ")"
      ],
      "metadata": {
        "execution": {
          "iopub.status.busy": "2024-04-01T21:13:31.998902Z",
          "iopub.execute_input": "2024-04-01T21:13:31.999265Z",
          "iopub.status.idle": "2024-04-01T21:13:32.005312Z",
          "shell.execute_reply.started": "2024-04-01T21:13:31.999238Z",
          "shell.execute_reply": "2024-04-01T21:13:32.004316Z"
        },
        "trusted": true,
        "id": "AzqjVwPAbM91"
      },
      "execution_count": null,
      "outputs": []
    },
    {
      "cell_type": "code",
      "source": [
        "HF_TOKEN = \"your_api_key\""
      ],
      "metadata": {
        "execution": {
          "iopub.status.busy": "2024-04-01T21:13:32.971280Z",
          "iopub.execute_input": "2024-04-01T21:13:32.971620Z",
          "iopub.status.idle": "2024-04-01T21:13:32.976120Z",
          "shell.execute_reply.started": "2024-04-01T21:13:32.971594Z",
          "shell.execute_reply": "2024-04-01T21:13:32.975101Z"
        },
        "trusted": true,
        "id": "7sEsN7fibM92"
      },
      "execution_count": null,
      "outputs": []
    },
    {
      "cell_type": "code",
      "source": [
        "tokenizer = AutoTokenizer.from_pretrained(model_id, token=HF_TOKEN)\n",
        "model = AutoModelForCausalLM.from_pretrained(model_id,\n",
        "                                             quantization_config=bnb_config,\n",
        "                                             device_map={\"\":0},\n",
        "                                             token=HF_TOKEN)"
      ],
      "metadata": {
        "execution": {
          "iopub.status.busy": "2024-04-01T21:13:34.084862Z",
          "iopub.execute_input": "2024-04-01T21:13:34.085449Z",
          "iopub.status.idle": "2024-04-01T21:14:42.808584Z",
          "shell.execute_reply.started": "2024-04-01T21:13:34.085419Z",
          "shell.execute_reply": "2024-04-01T21:14:42.807855Z"
        },
        "trusted": true,
        "colab": {
          "referenced_widgets": [
            "6e654f6777bc49c6966c3a29599a6d76",
            "9db9b3370a4941f789600e68530bf19d",
            "bd4fda5c2c1f49219b17ea4ab5fa159a",
            "6f15e1720b994514b9191b612bd7f1d3",
            "a4fbd02f53214175a0ef504219d4eb93",
            "10fb4f294f054c198eb483df1f62427d",
            "54e250c0b5394d8dac3e985113affd4a",
            "f764a8dabdcb4d4e9a173598998aa275",
            "80d18af74e8649d69df2a97401f0758f",
            "37b9a65c67864e3eaf60f41256c1fed3",
            "30ae4214a4d548d9adf59b74ef2f8e5f"
          ]
        },
        "id": "ttvGam9DbM93",
        "outputId": "0ff17421-3cb0-47de-c5bd-114acda08009"
      },
      "execution_count": null,
      "outputs": [
        {
          "output_type": "display_data",
          "data": {
            "text/plain": "tokenizer_config.json:   0%|          | 0.00/1.11k [00:00<?, ?B/s]",
            "application/vnd.jupyter.widget-view+json": {
              "version_major": 2,
              "version_minor": 0,
              "model_id": "6e654f6777bc49c6966c3a29599a6d76"
            }
          },
          "metadata": {}
        },
        {
          "output_type": "display_data",
          "data": {
            "text/plain": "tokenizer.model:   0%|          | 0.00/4.24M [00:00<?, ?B/s]",
            "application/vnd.jupyter.widget-view+json": {
              "version_major": 2,
              "version_minor": 0,
              "model_id": "9db9b3370a4941f789600e68530bf19d"
            }
          },
          "metadata": {}
        },
        {
          "output_type": "display_data",
          "data": {
            "text/plain": "tokenizer.json:   0%|          | 0.00/17.5M [00:00<?, ?B/s]",
            "application/vnd.jupyter.widget-view+json": {
              "version_major": 2,
              "version_minor": 0,
              "model_id": "bd4fda5c2c1f49219b17ea4ab5fa159a"
            }
          },
          "metadata": {}
        },
        {
          "output_type": "display_data",
          "data": {
            "text/plain": "special_tokens_map.json:   0%|          | 0.00/555 [00:00<?, ?B/s]",
            "application/vnd.jupyter.widget-view+json": {
              "version_major": 2,
              "version_minor": 0,
              "model_id": "6f15e1720b994514b9191b612bd7f1d3"
            }
          },
          "metadata": {}
        },
        {
          "output_type": "display_data",
          "data": {
            "text/plain": "config.json:   0%|          | 0.00/627 [00:00<?, ?B/s]",
            "application/vnd.jupyter.widget-view+json": {
              "version_major": 2,
              "version_minor": 0,
              "model_id": "a4fbd02f53214175a0ef504219d4eb93"
            }
          },
          "metadata": {}
        },
        {
          "output_type": "display_data",
          "data": {
            "text/plain": "model.safetensors.index.json:   0%|          | 0.00/13.5k [00:00<?, ?B/s]",
            "application/vnd.jupyter.widget-view+json": {
              "version_major": 2,
              "version_minor": 0,
              "model_id": "10fb4f294f054c198eb483df1f62427d"
            }
          },
          "metadata": {}
        },
        {
          "output_type": "display_data",
          "data": {
            "text/plain": "Downloading shards:   0%|          | 0/2 [00:00<?, ?it/s]",
            "application/vnd.jupyter.widget-view+json": {
              "version_major": 2,
              "version_minor": 0,
              "model_id": "54e250c0b5394d8dac3e985113affd4a"
            }
          },
          "metadata": {}
        },
        {
          "output_type": "display_data",
          "data": {
            "text/plain": "model-00001-of-00002.safetensors:   0%|          | 0.00/4.95G [00:00<?, ?B/s]",
            "application/vnd.jupyter.widget-view+json": {
              "version_major": 2,
              "version_minor": 0,
              "model_id": "f764a8dabdcb4d4e9a173598998aa275"
            }
          },
          "metadata": {}
        },
        {
          "output_type": "display_data",
          "data": {
            "text/plain": "model-00002-of-00002.safetensors:   0%|          | 0.00/67.1M [00:00<?, ?B/s]",
            "application/vnd.jupyter.widget-view+json": {
              "version_major": 2,
              "version_minor": 0,
              "model_id": "80d18af74e8649d69df2a97401f0758f"
            }
          },
          "metadata": {}
        },
        {
          "output_type": "display_data",
          "data": {
            "text/plain": "Loading checkpoint shards:   0%|          | 0/2 [00:00<?, ?it/s]",
            "application/vnd.jupyter.widget-view+json": {
              "version_major": 2,
              "version_minor": 0,
              "model_id": "37b9a65c67864e3eaf60f41256c1fed3"
            }
          },
          "metadata": {}
        },
        {
          "output_type": "display_data",
          "data": {
            "text/plain": "generation_config.json:   0%|          | 0.00/137 [00:00<?, ?B/s]",
            "application/vnd.jupyter.widget-view+json": {
              "version_major": 2,
              "version_minor": 0,
              "model_id": "30ae4214a4d548d9adf59b74ef2f8e5f"
            }
          },
          "metadata": {}
        }
      ]
    },
    {
      "cell_type": "markdown",
      "source": [
        "# Creating Dataset"
      ],
      "metadata": {
        "id": "2URydc32bM93"
      }
    },
    {
      "cell_type": "code",
      "source": [
        "import pandas as pd"
      ],
      "metadata": {
        "execution": {
          "iopub.status.busy": "2024-04-01T21:24:45.582837Z",
          "iopub.execute_input": "2024-04-01T21:24:45.583334Z",
          "iopub.status.idle": "2024-04-01T21:24:45.589526Z",
          "shell.execute_reply.started": "2024-04-01T21:24:45.583296Z",
          "shell.execute_reply": "2024-04-01T21:24:45.587352Z"
        },
        "trusted": true,
        "id": "JMQ9MDwMbM93"
      },
      "execution_count": null,
      "outputs": []
    },
    {
      "cell_type": "code",
      "source": [
        "df = pd.read_csv(\"/kaggle/input/blooms-taxonomy-dataset/B.csv\")"
      ],
      "metadata": {
        "execution": {
          "iopub.status.busy": "2024-04-01T21:25:12.411290Z",
          "iopub.execute_input": "2024-04-01T21:25:12.411662Z",
          "iopub.status.idle": "2024-04-01T21:25:12.428176Z",
          "shell.execute_reply.started": "2024-04-01T21:25:12.411632Z",
          "shell.execute_reply": "2024-04-01T21:25:12.427203Z"
        },
        "trusted": true,
        "id": "L5b3m-UUbM95"
      },
      "execution_count": null,
      "outputs": []
    },
    {
      "cell_type": "code",
      "source": [
        "df"
      ],
      "metadata": {
        "execution": {
          "iopub.status.busy": "2024-04-01T21:25:17.774622Z",
          "iopub.execute_input": "2024-04-01T21:25:17.774948Z",
          "iopub.status.idle": "2024-04-01T21:25:17.792543Z",
          "shell.execute_reply.started": "2024-04-01T21:25:17.774924Z",
          "shell.execute_reply": "2024-04-01T21:25:17.791520Z"
        },
        "trusted": true,
        "id": "znMdqwR1bM95",
        "outputId": "4fe87029-792a-4977-83d5-8e62c0a79464"
      },
      "execution_count": null,
      "outputs": [
        {
          "execution_count": 10,
          "output_type": "execute_result",
          "data": {
            "text/plain": "                                               Question     Label\n0     Can you list the ingredients needed for a clas...  Remember\n1     What are the top five tourist attractions in P...  Remember\n2               List five common programming languages.  Remember\n3         Name three types of renewable energy sources.  Remember\n4         Can you list the planets in our solar system?  Remember\n...                                                 ...       ...\n1766  Can you generalize from historical economic cy...    Create\n1767  How can you relate knowledge from history and ...    Create\n1768  What conclusions can you draw by combining int...    Create\n1769  How could old architectural styles be combined...    Create\n1770  Can you generalize from historical fashion tre...    Create\n\n[1771 rows x 2 columns]",
            "text/html": "<div>\n<style scoped>\n    .dataframe tbody tr th:only-of-type {\n        vertical-align: middle;\n    }\n\n    .dataframe tbody tr th {\n        vertical-align: top;\n    }\n\n    .dataframe thead th {\n        text-align: right;\n    }\n</style>\n<table border=\"1\" class=\"dataframe\">\n  <thead>\n    <tr style=\"text-align: right;\">\n      <th></th>\n      <th>Question</th>\n      <th>Label</th>\n    </tr>\n  </thead>\n  <tbody>\n    <tr>\n      <th>0</th>\n      <td>Can you list the ingredients needed for a clas...</td>\n      <td>Remember</td>\n    </tr>\n    <tr>\n      <th>1</th>\n      <td>What are the top five tourist attractions in P...</td>\n      <td>Remember</td>\n    </tr>\n    <tr>\n      <th>2</th>\n      <td>List five common programming languages.</td>\n      <td>Remember</td>\n    </tr>\n    <tr>\n      <th>3</th>\n      <td>Name three types of renewable energy sources.</td>\n      <td>Remember</td>\n    </tr>\n    <tr>\n      <th>4</th>\n      <td>Can you list the planets in our solar system?</td>\n      <td>Remember</td>\n    </tr>\n    <tr>\n      <th>...</th>\n      <td>...</td>\n      <td>...</td>\n    </tr>\n    <tr>\n      <th>1766</th>\n      <td>Can you generalize from historical economic cy...</td>\n      <td>Create</td>\n    </tr>\n    <tr>\n      <th>1767</th>\n      <td>How can you relate knowledge from history and ...</td>\n      <td>Create</td>\n    </tr>\n    <tr>\n      <th>1768</th>\n      <td>What conclusions can you draw by combining int...</td>\n      <td>Create</td>\n    </tr>\n    <tr>\n      <th>1769</th>\n      <td>How could old architectural styles be combined...</td>\n      <td>Create</td>\n    </tr>\n    <tr>\n      <th>1770</th>\n      <td>Can you generalize from historical fashion tre...</td>\n      <td>Create</td>\n    </tr>\n  </tbody>\n</table>\n<p>1771 rows × 2 columns</p>\n</div>"
          },
          "metadata": {}
        }
      ]
    },
    {
      "cell_type": "code",
      "source": [
        "!pip install keybert"
      ],
      "metadata": {
        "execution": {
          "iopub.status.busy": "2024-04-01T21:25:52.590527Z",
          "iopub.execute_input": "2024-04-01T21:25:52.591246Z",
          "iopub.status.idle": "2024-04-01T21:26:08.258690Z",
          "shell.execute_reply.started": "2024-04-01T21:25:52.591217Z",
          "shell.execute_reply": "2024-04-01T21:26:08.257426Z"
        },
        "trusted": true,
        "id": "1c1hey2EbM96",
        "outputId": "b82eb8eb-b380-4caf-b4d1-65a892f0e678"
      },
      "execution_count": null,
      "outputs": [
        {
          "name": "stdout",
          "text": "Collecting keybert\n  Downloading keybert-0.8.4.tar.gz (29 kB)\n  Preparing metadata (setup.py) ... \u001b[?25ldone\n\u001b[?25hCollecting sentence-transformers>=0.3.8 (from keybert)\n  Downloading sentence_transformers-2.6.1-py3-none-any.whl.metadata (11 kB)\nRequirement already satisfied: scikit-learn>=0.22.2 in /opt/conda/lib/python3.10/site-packages (from keybert) (1.2.2)\nRequirement already satisfied: numpy>=1.18.5 in /opt/conda/lib/python3.10/site-packages (from keybert) (1.26.4)\nRequirement already satisfied: rich>=10.4.0 in /opt/conda/lib/python3.10/site-packages (from keybert) (13.7.0)\nRequirement already satisfied: markdown-it-py>=2.2.0 in /opt/conda/lib/python3.10/site-packages (from rich>=10.4.0->keybert) (3.0.0)\nRequirement already satisfied: pygments<3.0.0,>=2.13.0 in /opt/conda/lib/python3.10/site-packages (from rich>=10.4.0->keybert) (2.17.2)\nRequirement already satisfied: scipy>=1.3.2 in /opt/conda/lib/python3.10/site-packages (from scikit-learn>=0.22.2->keybert) (1.11.4)\nRequirement already satisfied: joblib>=1.1.1 in /opt/conda/lib/python3.10/site-packages (from scikit-learn>=0.22.2->keybert) (1.3.2)\nRequirement already satisfied: threadpoolctl>=2.0.0 in /opt/conda/lib/python3.10/site-packages (from scikit-learn>=0.22.2->keybert) (3.2.0)\nRequirement already satisfied: transformers<5.0.0,>=4.32.0 in /opt/conda/lib/python3.10/site-packages (from sentence-transformers>=0.3.8->keybert) (4.38.0)\nRequirement already satisfied: tqdm in /opt/conda/lib/python3.10/site-packages (from sentence-transformers>=0.3.8->keybert) (4.66.1)\nRequirement already satisfied: torch>=1.11.0 in /opt/conda/lib/python3.10/site-packages (from sentence-transformers>=0.3.8->keybert) (2.1.2)\nRequirement already satisfied: huggingface-hub>=0.15.1 in /opt/conda/lib/python3.10/site-packages (from sentence-transformers>=0.3.8->keybert) (0.20.3)\nRequirement already satisfied: Pillow in /opt/conda/lib/python3.10/site-packages (from sentence-transformers>=0.3.8->keybert) (9.5.0)\nRequirement already satisfied: filelock in /opt/conda/lib/python3.10/site-packages (from huggingface-hub>=0.15.1->sentence-transformers>=0.3.8->keybert) (3.13.1)\nRequirement already satisfied: fsspec>=2023.5.0 in /opt/conda/lib/python3.10/site-packages (from huggingface-hub>=0.15.1->sentence-transformers>=0.3.8->keybert) (2023.10.0)\nRequirement already satisfied: requests in /opt/conda/lib/python3.10/site-packages (from huggingface-hub>=0.15.1->sentence-transformers>=0.3.8->keybert) (2.31.0)\nRequirement already satisfied: pyyaml>=5.1 in /opt/conda/lib/python3.10/site-packages (from huggingface-hub>=0.15.1->sentence-transformers>=0.3.8->keybert) (6.0.1)\nRequirement already satisfied: typing-extensions>=3.7.4.3 in /opt/conda/lib/python3.10/site-packages (from huggingface-hub>=0.15.1->sentence-transformers>=0.3.8->keybert) (4.9.0)\nRequirement already satisfied: packaging>=20.9 in /opt/conda/lib/python3.10/site-packages (from huggingface-hub>=0.15.1->sentence-transformers>=0.3.8->keybert) (21.3)\nRequirement already satisfied: mdurl~=0.1 in /opt/conda/lib/python3.10/site-packages (from markdown-it-py>=2.2.0->rich>=10.4.0->keybert) (0.1.2)\nRequirement already satisfied: sympy in /opt/conda/lib/python3.10/site-packages (from torch>=1.11.0->sentence-transformers>=0.3.8->keybert) (1.12)\nRequirement already satisfied: networkx in /opt/conda/lib/python3.10/site-packages (from torch>=1.11.0->sentence-transformers>=0.3.8->keybert) (3.2.1)\nRequirement already satisfied: jinja2 in /opt/conda/lib/python3.10/site-packages (from torch>=1.11.0->sentence-transformers>=0.3.8->keybert) (3.1.2)\nRequirement already satisfied: regex!=2019.12.17 in /opt/conda/lib/python3.10/site-packages (from transformers<5.0.0,>=4.32.0->sentence-transformers>=0.3.8->keybert) (2023.12.25)\nRequirement already satisfied: tokenizers<0.19,>=0.14 in /opt/conda/lib/python3.10/site-packages (from transformers<5.0.0,>=4.32.0->sentence-transformers>=0.3.8->keybert) (0.15.2)\nRequirement already satisfied: safetensors>=0.4.1 in /opt/conda/lib/python3.10/site-packages (from transformers<5.0.0,>=4.32.0->sentence-transformers>=0.3.8->keybert) (0.4.2)\nRequirement already satisfied: pyparsing!=3.0.5,>=2.0.2 in /opt/conda/lib/python3.10/site-packages (from packaging>=20.9->huggingface-hub>=0.15.1->sentence-transformers>=0.3.8->keybert) (3.1.1)\nRequirement already satisfied: MarkupSafe>=2.0 in /opt/conda/lib/python3.10/site-packages (from jinja2->torch>=1.11.0->sentence-transformers>=0.3.8->keybert) (2.1.3)\nRequirement already satisfied: charset-normalizer<4,>=2 in /opt/conda/lib/python3.10/site-packages (from requests->huggingface-hub>=0.15.1->sentence-transformers>=0.3.8->keybert) (3.3.2)\nRequirement already satisfied: idna<4,>=2.5 in /opt/conda/lib/python3.10/site-packages (from requests->huggingface-hub>=0.15.1->sentence-transformers>=0.3.8->keybert) (3.6)\nRequirement already satisfied: urllib3<3,>=1.21.1 in /opt/conda/lib/python3.10/site-packages (from requests->huggingface-hub>=0.15.1->sentence-transformers>=0.3.8->keybert) (1.26.18)\nRequirement already satisfied: certifi>=2017.4.17 in /opt/conda/lib/python3.10/site-packages (from requests->huggingface-hub>=0.15.1->sentence-transformers>=0.3.8->keybert) (2024.2.2)\nRequirement already satisfied: mpmath>=0.19 in /opt/conda/lib/python3.10/site-packages (from sympy->torch>=1.11.0->sentence-transformers>=0.3.8->keybert) (1.3.0)\nDownloading sentence_transformers-2.6.1-py3-none-any.whl (163 kB)\n\u001b[2K   \u001b[90m━━━━━━━━━━━━━━━━━━━━━━━━━━━━━━━━━━━━━━━━\u001b[0m \u001b[32m163.3/163.3 kB\u001b[0m \u001b[31m5.0 MB/s\u001b[0m eta \u001b[36m0:00:00\u001b[0m\n\u001b[?25hBuilding wheels for collected packages: keybert\n  Building wheel for keybert (setup.py) ... \u001b[?25ldone\n\u001b[?25h  Created wheel for keybert: filename=keybert-0.8.4-py3-none-any.whl size=39199 sha256=befc7190707738b124e86d514f6eeac47a123f329d5990e295ea1410622ba5e5\n  Stored in directory: /root/.cache/pip/wheels/97/ef/4c/6588bd7072b0cc04225b40e639b991e49ebd4e21fb81f0acee\nSuccessfully built keybert\nInstalling collected packages: sentence-transformers, keybert\nSuccessfully installed keybert-0.8.4 sentence-transformers-2.6.1\n",
          "output_type": "stream"
        }
      ]
    },
    {
      "cell_type": "code",
      "source": [
        "from keybert import KeyBERT\n",
        "\n",
        "kw_model = KeyBERT()"
      ],
      "metadata": {
        "execution": {
          "iopub.status.busy": "2024-04-01T21:26:32.191930Z",
          "iopub.execute_input": "2024-04-01T21:26:32.192298Z",
          "iopub.status.idle": "2024-04-01T21:26:39.920484Z",
          "shell.execute_reply.started": "2024-04-01T21:26:32.192269Z",
          "shell.execute_reply": "2024-04-01T21:26:39.919493Z"
        },
        "trusted": true,
        "colab": {
          "referenced_widgets": [
            "daafdc422981468992d93d4e1f023759",
            "ff6dc123ed344cf79e187c581ff6947a",
            "1415ed0f29224dfc97dbccec8e206d8b",
            "17c3ef7528374db09bf222ef9d6afcf0",
            "6d9ca5b210534463a205ff18ea50c5a2",
            "20dc100829604a55afdaf2ca6effeb75",
            "58e6e9eb356c49849a6f04a2e9fc7bf7",
            "3633ca6fd01842f0993dc2302c322e0f",
            "fcfe728c591346fda6faf4d591910f73",
            "870809ac144e4705baed84e9fd80a876",
            "5e7e8a0494cb4bdea7ff4e9f8e78344d"
          ]
        },
        "id": "rUJPl7WSbM97",
        "outputId": "53774a1f-91b7-45c4-ab59-56d85eba0e61"
      },
      "execution_count": null,
      "outputs": [
        {
          "output_type": "display_data",
          "data": {
            "text/plain": "modules.json:   0%|          | 0.00/349 [00:00<?, ?B/s]",
            "application/vnd.jupyter.widget-view+json": {
              "version_major": 2,
              "version_minor": 0,
              "model_id": "daafdc422981468992d93d4e1f023759"
            }
          },
          "metadata": {}
        },
        {
          "output_type": "display_data",
          "data": {
            "text/plain": "config_sentence_transformers.json:   0%|          | 0.00/116 [00:00<?, ?B/s]",
            "application/vnd.jupyter.widget-view+json": {
              "version_major": 2,
              "version_minor": 0,
              "model_id": "ff6dc123ed344cf79e187c581ff6947a"
            }
          },
          "metadata": {}
        },
        {
          "output_type": "display_data",
          "data": {
            "text/plain": "README.md:   0%|          | 0.00/10.7k [00:00<?, ?B/s]",
            "application/vnd.jupyter.widget-view+json": {
              "version_major": 2,
              "version_minor": 0,
              "model_id": "1415ed0f29224dfc97dbccec8e206d8b"
            }
          },
          "metadata": {}
        },
        {
          "output_type": "display_data",
          "data": {
            "text/plain": "sentence_bert_config.json:   0%|          | 0.00/53.0 [00:00<?, ?B/s]",
            "application/vnd.jupyter.widget-view+json": {
              "version_major": 2,
              "version_minor": 0,
              "model_id": "17c3ef7528374db09bf222ef9d6afcf0"
            }
          },
          "metadata": {}
        },
        {
          "output_type": "display_data",
          "data": {
            "text/plain": "config.json:   0%|          | 0.00/612 [00:00<?, ?B/s]",
            "application/vnd.jupyter.widget-view+json": {
              "version_major": 2,
              "version_minor": 0,
              "model_id": "6d9ca5b210534463a205ff18ea50c5a2"
            }
          },
          "metadata": {}
        },
        {
          "output_type": "display_data",
          "data": {
            "text/plain": "model.safetensors:   0%|          | 0.00/90.9M [00:00<?, ?B/s]",
            "application/vnd.jupyter.widget-view+json": {
              "version_major": 2,
              "version_minor": 0,
              "model_id": "20dc100829604a55afdaf2ca6effeb75"
            }
          },
          "metadata": {}
        },
        {
          "output_type": "display_data",
          "data": {
            "text/plain": "tokenizer_config.json:   0%|          | 0.00/350 [00:00<?, ?B/s]",
            "application/vnd.jupyter.widget-view+json": {
              "version_major": 2,
              "version_minor": 0,
              "model_id": "58e6e9eb356c49849a6f04a2e9fc7bf7"
            }
          },
          "metadata": {}
        },
        {
          "output_type": "display_data",
          "data": {
            "text/plain": "vocab.txt:   0%|          | 0.00/232k [00:00<?, ?B/s]",
            "application/vnd.jupyter.widget-view+json": {
              "version_major": 2,
              "version_minor": 0,
              "model_id": "3633ca6fd01842f0993dc2302c322e0f"
            }
          },
          "metadata": {}
        },
        {
          "output_type": "display_data",
          "data": {
            "text/plain": "tokenizer.json:   0%|          | 0.00/466k [00:00<?, ?B/s]",
            "application/vnd.jupyter.widget-view+json": {
              "version_major": 2,
              "version_minor": 0,
              "model_id": "fcfe728c591346fda6faf4d591910f73"
            }
          },
          "metadata": {}
        },
        {
          "output_type": "display_data",
          "data": {
            "text/plain": "special_tokens_map.json:   0%|          | 0.00/112 [00:00<?, ?B/s]",
            "application/vnd.jupyter.widget-view+json": {
              "version_major": 2,
              "version_minor": 0,
              "model_id": "870809ac144e4705baed84e9fd80a876"
            }
          },
          "metadata": {}
        },
        {
          "output_type": "display_data",
          "data": {
            "text/plain": "1_Pooling/config.json:   0%|          | 0.00/190 [00:00<?, ?B/s]",
            "application/vnd.jupyter.widget-view+json": {
              "version_major": 2,
              "version_minor": 0,
              "model_id": "5e7e8a0494cb4bdea7ff4e9f8e78344d"
            }
          },
          "metadata": {}
        }
      ]
    },
    {
      "cell_type": "code",
      "source": [
        "keywords = kw_model.extract_keywords(df['Question'][0])"
      ],
      "metadata": {
        "execution": {
          "iopub.status.busy": "2024-04-01T21:27:15.110247Z",
          "iopub.execute_input": "2024-04-01T21:27:15.110600Z",
          "iopub.status.idle": "2024-04-01T21:27:15.743556Z",
          "shell.execute_reply.started": "2024-04-01T21:27:15.110572Z",
          "shell.execute_reply": "2024-04-01T21:27:15.742571Z"
        },
        "trusted": true,
        "id": "aHA1U28nbM97"
      },
      "execution_count": null,
      "outputs": []
    },
    {
      "cell_type": "code",
      "source": [
        "keywords[0][0]"
      ],
      "metadata": {
        "execution": {
          "iopub.status.busy": "2024-04-01T21:29:06.825161Z",
          "iopub.execute_input": "2024-04-01T21:29:06.825866Z",
          "iopub.status.idle": "2024-04-01T21:29:06.831589Z",
          "shell.execute_reply.started": "2024-04-01T21:29:06.825837Z",
          "shell.execute_reply": "2024-04-01T21:29:06.830633Z"
        },
        "trusted": true,
        "id": "qrvS-aHAbM97",
        "outputId": "dea088dc-f124-4a9e-e7ba-cc95308bfaee"
      },
      "execution_count": null,
      "outputs": [
        {
          "execution_count": 20,
          "output_type": "execute_result",
          "data": {
            "text/plain": "'spaghetti'"
          },
          "metadata": {}
        }
      ]
    },
    {
      "cell_type": "code",
      "source": [
        "keyword = []\n",
        "\n",
        "for data in df['Question']:\n",
        "    keyword.append(kw_model.extract_keywords(data)[0][0])"
      ],
      "metadata": {
        "execution": {
          "iopub.status.busy": "2024-04-01T21:30:58.638833Z",
          "iopub.execute_input": "2024-04-01T21:30:58.639475Z",
          "iopub.status.idle": "2024-04-01T21:31:31.051798Z",
          "shell.execute_reply.started": "2024-04-01T21:30:58.639440Z",
          "shell.execute_reply": "2024-04-01T21:31:31.050708Z"
        },
        "trusted": true,
        "id": "SOTFVzA5bM97"
      },
      "execution_count": null,
      "outputs": []
    },
    {
      "cell_type": "code",
      "source": [
        "keyword[:5]"
      ],
      "metadata": {
        "execution": {
          "iopub.status.busy": "2024-04-01T21:31:45.069449Z",
          "iopub.execute_input": "2024-04-01T21:31:45.070094Z",
          "iopub.status.idle": "2024-04-01T21:31:45.076175Z",
          "shell.execute_reply.started": "2024-04-01T21:31:45.070059Z",
          "shell.execute_reply": "2024-04-01T21:31:45.075286Z"
        },
        "trusted": true,
        "id": "VykPiudbbM98",
        "outputId": "f6388de1-6366-44d3-9de5-37b9f4fbadff"
      },
      "execution_count": null,
      "outputs": [
        {
          "execution_count": 26,
          "output_type": "execute_result",
          "data": {
            "text/plain": "['spaghetti', 'attractions', 'languages', 'renewable', 'planets']"
          },
          "metadata": {}
        }
      ]
    },
    {
      "cell_type": "code",
      "source": [
        "df[\"Keyword\"] = keyword"
      ],
      "metadata": {
        "execution": {
          "iopub.status.busy": "2024-04-01T21:32:42.103726Z",
          "iopub.execute_input": "2024-04-01T21:32:42.104133Z",
          "iopub.status.idle": "2024-04-01T21:32:42.109921Z",
          "shell.execute_reply.started": "2024-04-01T21:32:42.104102Z",
          "shell.execute_reply": "2024-04-01T21:32:42.108726Z"
        },
        "trusted": true,
        "id": "aB6pLQyjbM98"
      },
      "execution_count": null,
      "outputs": []
    },
    {
      "cell_type": "code",
      "source": [
        "df"
      ],
      "metadata": {
        "execution": {
          "iopub.status.busy": "2024-04-01T21:32:45.925943Z",
          "iopub.execute_input": "2024-04-01T21:32:45.926340Z",
          "iopub.status.idle": "2024-04-01T21:32:45.941865Z",
          "shell.execute_reply.started": "2024-04-01T21:32:45.926311Z",
          "shell.execute_reply": "2024-04-01T21:32:45.941013Z"
        },
        "trusted": true,
        "id": "6e_SpSs-bM98",
        "outputId": "fc95939e-51c7-454f-bb34-f613f1bb72e5"
      },
      "execution_count": null,
      "outputs": [
        {
          "execution_count": 28,
          "output_type": "execute_result",
          "data": {
            "text/plain": "                                               Question     Label  \\\n0     Can you list the ingredients needed for a clas...  Remember   \n1     What are the top five tourist attractions in P...  Remember   \n2               List five common programming languages.  Remember   \n3         Name three types of renewable energy sources.  Remember   \n4         Can you list the planets in our solar system?  Remember   \n...                                                 ...       ...   \n1766  Can you generalize from historical economic cy...    Create   \n1767  How can you relate knowledge from history and ...    Create   \n1768  What conclusions can you draw by combining int...    Create   \n1769  How could old architectural styles be combined...    Create   \n1770  Can you generalize from historical fashion tre...    Create   \n\n              Keyword  \n0           spaghetti  \n1         attractions  \n2           languages  \n3           renewable  \n4             planets  \n...               ...  \n1766          predict  \n1767         cultural  \n1768  interpretations  \n1769        buildings  \n1770          fashion  \n\n[1771 rows x 3 columns]",
            "text/html": "<div>\n<style scoped>\n    .dataframe tbody tr th:only-of-type {\n        vertical-align: middle;\n    }\n\n    .dataframe tbody tr th {\n        vertical-align: top;\n    }\n\n    .dataframe thead th {\n        text-align: right;\n    }\n</style>\n<table border=\"1\" class=\"dataframe\">\n  <thead>\n    <tr style=\"text-align: right;\">\n      <th></th>\n      <th>Question</th>\n      <th>Label</th>\n      <th>Keyword</th>\n    </tr>\n  </thead>\n  <tbody>\n    <tr>\n      <th>0</th>\n      <td>Can you list the ingredients needed for a clas...</td>\n      <td>Remember</td>\n      <td>spaghetti</td>\n    </tr>\n    <tr>\n      <th>1</th>\n      <td>What are the top five tourist attractions in P...</td>\n      <td>Remember</td>\n      <td>attractions</td>\n    </tr>\n    <tr>\n      <th>2</th>\n      <td>List five common programming languages.</td>\n      <td>Remember</td>\n      <td>languages</td>\n    </tr>\n    <tr>\n      <th>3</th>\n      <td>Name three types of renewable energy sources.</td>\n      <td>Remember</td>\n      <td>renewable</td>\n    </tr>\n    <tr>\n      <th>4</th>\n      <td>Can you list the planets in our solar system?</td>\n      <td>Remember</td>\n      <td>planets</td>\n    </tr>\n    <tr>\n      <th>...</th>\n      <td>...</td>\n      <td>...</td>\n      <td>...</td>\n    </tr>\n    <tr>\n      <th>1766</th>\n      <td>Can you generalize from historical economic cy...</td>\n      <td>Create</td>\n      <td>predict</td>\n    </tr>\n    <tr>\n      <th>1767</th>\n      <td>How can you relate knowledge from history and ...</td>\n      <td>Create</td>\n      <td>cultural</td>\n    </tr>\n    <tr>\n      <th>1768</th>\n      <td>What conclusions can you draw by combining int...</td>\n      <td>Create</td>\n      <td>interpretations</td>\n    </tr>\n    <tr>\n      <th>1769</th>\n      <td>How could old architectural styles be combined...</td>\n      <td>Create</td>\n      <td>buildings</td>\n    </tr>\n    <tr>\n      <th>1770</th>\n      <td>Can you generalize from historical fashion tre...</td>\n      <td>Create</td>\n      <td>fashion</td>\n    </tr>\n  </tbody>\n</table>\n<p>1771 rows × 3 columns</p>\n</div>"
          },
          "metadata": {}
        }
      ]
    },
    {
      "cell_type": "code",
      "source": [
        "print()"
      ],
      "metadata": {
        "id": "S2hruGjHbM98"
      },
      "execution_count": null,
      "outputs": []
    },
    {
      "cell_type": "markdown",
      "source": [
        "# Prior to Fine Tuning"
      ],
      "metadata": {
        "id": "yywW2zghbM98"
      }
    },
    {
      "cell_type": "code",
      "source": [
        "text = f'Generate a Question related only on the Keyword - \"{df[\"Keyword\"][0]}\" {context} and Bloom Taxonomy Type - \"{df[\"Label\"][0]}\" {pages} {articles} \\nGenerated Question: \\nAnswer:'\n",
        "device = \"cuda:0\"\n",
        "inputs = tokenizer(text, return_tensors=\"pt\").to(device)\n",
        "\n",
        "outputs = model.generate(**inputs, max_new_tokens=100)\n",
        "print(tokenizer.decode(outputs[0], skip_special_tokens=True))"
      ],
      "metadata": {
        "execution": {
          "iopub.status.busy": "2024-04-01T21:48:37.649540Z",
          "iopub.execute_input": "2024-04-01T21:48:37.649915Z",
          "iopub.status.idle": "2024-04-01T21:48:38.808601Z",
          "shell.execute_reply.started": "2024-04-01T21:48:37.649888Z",
          "shell.execute_reply": "2024-04-01T21:48:38.807656Z"
        },
        "trusted": true,
        "id": "-IgJW_yhbM98",
        "outputId": "8181cf52-2a31-4d17-d494-ae7fd37e5f7b"
      },
      "execution_count": null,
      "outputs": [
        {
          "name": "stdout",
          "text": "Generate a Question related only on the Keyword - \"spaghetti\" and Bloom Taxonomy Type - \"Remember\" \nGenerated Question: \nWhat is the difference between a spaghetti and a spaghetti sauce? \nAnswer: \nA\n",
          "output_type": "stream"
        }
      ]
    },
    {
      "cell_type": "code",
      "source": [
        "os.environ[\"WANDB_DISABLED\"] = \"false\""
      ],
      "metadata": {
        "execution": {
          "iopub.status.busy": "2024-04-01T21:42:42.613373Z",
          "iopub.execute_input": "2024-04-01T21:42:42.614178Z",
          "iopub.status.idle": "2024-04-01T21:42:42.618182Z",
          "shell.execute_reply.started": "2024-04-01T21:42:42.614142Z",
          "shell.execute_reply": "2024-04-01T21:42:42.617091Z"
        },
        "trusted": true,
        "id": "U-_9kvsIbM99"
      },
      "execution_count": null,
      "outputs": []
    },
    {
      "cell_type": "code",
      "source": [
        "lora_config = LoraConfig(\n",
        "    r = 8,\n",
        "    target_modules = [\"q_proj\", \"o_proj\", \"k_proj\", \"v_proj\",\n",
        "                      \"gate_proj\", \"up_proj\", \"down_proj\"],\n",
        "    task_type = \"CAUSAL_LM\",\n",
        ")"
      ],
      "metadata": {
        "execution": {
          "iopub.status.busy": "2024-04-01T21:42:45.008487Z",
          "iopub.execute_input": "2024-04-01T21:42:45.008862Z",
          "iopub.status.idle": "2024-04-01T21:42:45.014035Z",
          "shell.execute_reply.started": "2024-04-01T21:42:45.008832Z",
          "shell.execute_reply": "2024-04-01T21:42:45.013053Z"
        },
        "trusted": true,
        "id": "AimUto0wbM99"
      },
      "execution_count": null,
      "outputs": []
    },
    {
      "cell_type": "code",
      "source": [
        "def formatting_func(example):\n",
        "    text = f'Generate a Question related only on the Keyword - \"{example[\"Keyword\"]}\" and Bloom Taxonomy Type - \"{example[\"Label\"]}\" \\nGenerated Question: {example[\"Question\"]}'\n",
        "    return [text]"
      ],
      "metadata": {
        "execution": {
          "iopub.status.busy": "2024-04-01T21:51:48.378196Z",
          "iopub.execute_input": "2024-04-01T21:51:48.379113Z",
          "iopub.status.idle": "2024-04-01T21:51:48.383750Z",
          "shell.execute_reply.started": "2024-04-01T21:51:48.379070Z",
          "shell.execute_reply": "2024-04-01T21:51:48.382525Z"
        },
        "trusted": true,
        "id": "5LMnrReQbM99"
      },
      "execution_count": null,
      "outputs": []
    },
    {
      "cell_type": "code",
      "source": [
        "from datasets import Dataset\n",
        "\n",
        "hf_dataset = Dataset.from_pandas(df)"
      ],
      "metadata": {
        "execution": {
          "iopub.status.busy": "2024-04-01T21:51:50.562664Z",
          "iopub.execute_input": "2024-04-01T21:51:50.563339Z",
          "iopub.status.idle": "2024-04-01T21:51:50.579035Z",
          "shell.execute_reply.started": "2024-04-01T21:51:50.563307Z",
          "shell.execute_reply": "2024-04-01T21:51:50.577839Z"
        },
        "trusted": true,
        "id": "SMVNuzgkbM99"
      },
      "execution_count": null,
      "outputs": []
    },
    {
      "cell_type": "code",
      "source": [
        "formatting_func(hf_dataset[1])"
      ],
      "metadata": {
        "execution": {
          "iopub.status.busy": "2024-04-01T21:51:50.801331Z",
          "iopub.execute_input": "2024-04-01T21:51:50.802508Z",
          "iopub.status.idle": "2024-04-01T21:51:50.809004Z",
          "shell.execute_reply.started": "2024-04-01T21:51:50.802473Z",
          "shell.execute_reply": "2024-04-01T21:51:50.807945Z"
        },
        "trusted": true,
        "id": "L-uYJP5SbM99",
        "outputId": "01fb061c-ebd4-4016-8b38-2590e8168a56"
      },
      "execution_count": null,
      "outputs": [
        {
          "execution_count": 65,
          "output_type": "execute_result",
          "data": {
            "text/plain": "['Generate a Question related only on the Keyword - \"attractions\" and Bloom Taxonomy Type - \"Remember\" \\nGenerated Question: What are the top five tourist attractions in Paris?']"
          },
          "metadata": {}
        }
      ]
    },
    {
      "cell_type": "code",
      "source": [
        "trainer = SFTTrainer(\n",
        "    model=model,\n",
        "    train_dataset=hf_dataset,\n",
        "    args=transformers.TrainingArguments(\n",
        "        per_device_train_batch_size=1,\n",
        "        gradient_accumulation_steps=4,\n",
        "        warmup_steps=2,\n",
        "        max_steps=50,\n",
        "        learning_rate=2e-4,\n",
        "        fp16=True,\n",
        "        logging_steps=1,\n",
        "        output_dir=\"outputs\",\n",
        "        optim=\"paged_adamw_8bit\"\n",
        "    ),\n",
        "    peft_config=lora_config,\n",
        "    formatting_func=formatting_func,\n",
        ")"
      ],
      "metadata": {
        "execution": {
          "iopub.status.busy": "2024-04-01T21:51:58.739007Z",
          "iopub.execute_input": "2024-04-01T21:51:58.739398Z",
          "iopub.status.idle": "2024-04-01T21:52:00.651288Z",
          "shell.execute_reply.started": "2024-04-01T21:51:58.739371Z",
          "shell.execute_reply": "2024-04-01T21:52:00.650247Z"
        },
        "trusted": true,
        "colab": {
          "referenced_widgets": [
            "1465af250bc74c82842209bcb684318b"
          ]
        },
        "id": "a8YYh_HrbM99",
        "outputId": "8e5052f0-2ec8-46e1-9ab5-e7adfd1ddfe0"
      },
      "execution_count": null,
      "outputs": [
        {
          "output_type": "display_data",
          "data": {
            "text/plain": "Map:   0%|          | 0/1771 [00:00<?, ? examples/s]",
            "application/vnd.jupyter.widget-view+json": {
              "version_major": 2,
              "version_minor": 0,
              "model_id": "1465af250bc74c82842209bcb684318b"
            }
          },
          "metadata": {}
        },
        {
          "name": "stderr",
          "text": "/opt/conda/lib/python3.10/site-packages/trl/trainer/sft_trainer.py:290: UserWarning: You passed a tokenizer with `padding_side` not equal to `right` to the SFTTrainer. This might lead to some unexpected behaviour due to overflow issues when training a model in half-precision. You might consider adding `tokenizer.padding_side = 'right'` to your code.\n  warnings.warn(\n",
          "output_type": "stream"
        }
      ]
    },
    {
      "cell_type": "code",
      "source": [
        "import wandb\n",
        "\n",
        "wandb.login(key=\"your_api_key\")\n",
        "\n",
        "wandb.init(project='your_project', entity='your_entity')"
      ],
      "metadata": {
        "execution": {
          "iopub.status.busy": "2024-04-01T22:00:03.134780Z",
          "iopub.execute_input": "2024-04-01T22:00:03.135503Z",
          "iopub.status.idle": "2024-04-01T22:00:35.130199Z",
          "shell.execute_reply.started": "2024-04-01T22:00:03.135471Z",
          "shell.execute_reply": "2024-04-01T22:00:35.129102Z"
        },
        "trusted": true,
        "id": "dsyJuMHKbM9-",
        "outputId": "b2cd535e-e0c6-4f6f-96d9-9a0d26a6e62d"
      },
      "execution_count": null,
      "outputs": [
        {
          "name": "stderr",
          "text": "\u001b[34m\u001b[1mwandb\u001b[0m: Currently logged in as: \u001b[33msatvamthakkar1\u001b[0m (\u001b[33mipdproject\u001b[0m). Use \u001b[1m`wandb login --relogin`\u001b[0m to force relogin\n\u001b[34m\u001b[1mwandb\u001b[0m: \u001b[33mWARNING\u001b[0m If you're specifying your api key in code, ensure this code is not shared publicly.\n\u001b[34m\u001b[1mwandb\u001b[0m: \u001b[33mWARNING\u001b[0m Consider setting the WANDB_API_KEY environment variable, or running `wandb login` from the command line.\n\u001b[34m\u001b[1mwandb\u001b[0m: Appending key for api.wandb.ai to your netrc file: /root/.netrc\n\u001b[34m\u001b[1mwandb\u001b[0m: Currently logged in as: \u001b[33msatvamthakkar1\u001b[0m. Use \u001b[1m`wandb login --relogin`\u001b[0m to force relogin\n",
          "output_type": "stream"
        },
        {
          "output_type": "display_data",
          "data": {
            "text/plain": "<IPython.core.display.HTML object>",
            "text/html": "wandb version 0.16.5 is available!  To upgrade, please run:\n $ pip install wandb --upgrade"
          },
          "metadata": {}
        },
        {
          "output_type": "display_data",
          "data": {
            "text/plain": "<IPython.core.display.HTML object>",
            "text/html": "Tracking run with wandb version 0.16.3"
          },
          "metadata": {}
        },
        {
          "output_type": "display_data",
          "data": {
            "text/plain": "<IPython.core.display.HTML object>",
            "text/html": "Run data is saved locally in <code>/kaggle/working/wandb/run-20240401_220003-reaa2x0d</code>"
          },
          "metadata": {}
        },
        {
          "output_type": "display_data",
          "data": {
            "text/plain": "<IPython.core.display.HTML object>",
            "text/html": "Syncing run <strong><a href='https://wandb.ai/satvamthakkar1/ipdproject/runs/reaa2x0d' target=\"_blank\">amber-microwave-1</a></strong> to <a href='https://wandb.ai/satvamthakkar1/ipdproject' target=\"_blank\">Weights & Biases</a> (<a href='https://wandb.me/run' target=\"_blank\">docs</a>)<br/>"
          },
          "metadata": {}
        },
        {
          "output_type": "display_data",
          "data": {
            "text/plain": "<IPython.core.display.HTML object>",
            "text/html": " View project at <a href='https://wandb.ai/satvamthakkar1/ipdproject' target=\"_blank\">https://wandb.ai/satvamthakkar1/ipdproject</a>"
          },
          "metadata": {}
        },
        {
          "output_type": "display_data",
          "data": {
            "text/plain": "<IPython.core.display.HTML object>",
            "text/html": " View run at <a href='https://wandb.ai/satvamthakkar1/ipdproject/runs/reaa2x0d' target=\"_blank\">https://wandb.ai/satvamthakkar1/ipdproject/runs/reaa2x0d</a>"
          },
          "metadata": {}
        },
        {
          "execution_count": 75,
          "output_type": "execute_result",
          "data": {
            "text/html": "<button onClick=\"this.nextSibling.style.display='block';this.style.display='none';\">Display W&B run</button><iframe src='https://wandb.ai/satvamthakkar1/ipdproject/runs/reaa2x0d?jupyter=true' style='border:none;width:100%;height:420px;display:none;'></iframe>",
            "text/plain": "<wandb.sdk.wandb_run.Run at 0x7c2ed85dfaf0>"
          },
          "metadata": {}
        }
      ]
    },
    {
      "cell_type": "code",
      "source": [
        "trainer.train()"
      ],
      "metadata": {
        "execution": {
          "iopub.status.busy": "2024-04-01T22:00:35.131935Z",
          "iopub.execute_input": "2024-04-01T22:00:35.132288Z",
          "iopub.status.idle": "2024-04-01T22:04:11.481283Z",
          "shell.execute_reply.started": "2024-04-01T22:00:35.132258Z",
          "shell.execute_reply": "2024-04-01T22:04:11.480141Z"
        },
        "trusted": true,
        "id": "MWs3HMFrbM9-",
        "outputId": "1af55874-1bf5-4864-b12d-9bbe9abe47f4"
      },
      "execution_count": null,
      "outputs": [
        {
          "output_type": "display_data",
          "data": {
            "text/plain": "<IPython.core.display.HTML object>",
            "text/html": "\n    <div>\n      \n      <progress value='50' max='50' style='width:300px; height:20px; vertical-align: middle;'></progress>\n      [50/50 03:30, Epoch 50/50]\n    </div>\n    <table border=\"1\" class=\"dataframe\">\n  <thead>\n <tr style=\"text-align: left;\">\n      <th>Step</th>\n      <th>Training Loss</th>\n    </tr>\n  </thead>\n  <tbody>\n    <tr>\n      <td>1</td>\n      <td>1.328100</td>\n    </tr>\n    <tr>\n      <td>2</td>\n      <td>1.328100</td>\n    </tr>\n    <tr>\n      <td>3</td>\n      <td>1.318400</td>\n    </tr>\n    <tr>\n      <td>4</td>\n      <td>1.296100</td>\n    </tr>\n    <tr>\n      <td>5</td>\n      <td>1.273900</td>\n    </tr>\n    <tr>\n      <td>6</td>\n      <td>1.254000</td>\n    </tr>\n    <tr>\n      <td>7</td>\n      <td>1.238500</td>\n    </tr>\n    <tr>\n      <td>8</td>\n      <td>1.223000</td>\n    </tr>\n    <tr>\n      <td>9</td>\n      <td>1.202700</td>\n    </tr>\n    <tr>\n      <td>10</td>\n      <td>1.180100</td>\n    </tr>\n    <tr>\n      <td>11</td>\n      <td>1.158100</td>\n    </tr>\n    <tr>\n      <td>12</td>\n      <td>1.138100</td>\n    </tr>\n    <tr>\n      <td>13</td>\n      <td>1.119900</td>\n    </tr>\n    <tr>\n      <td>14</td>\n      <td>1.102400</td>\n    </tr>\n    <tr>\n      <td>15</td>\n      <td>1.083700</td>\n    </tr>\n    <tr>\n      <td>16</td>\n      <td>1.064800</td>\n    </tr>\n    <tr>\n      <td>17</td>\n      <td>1.045400</td>\n    </tr>\n    <tr>\n      <td>18</td>\n      <td>1.025400</td>\n    </tr>\n    <tr>\n      <td>19</td>\n      <td>1.005400</td>\n    </tr>\n    <tr>\n      <td>20</td>\n      <td>0.986500</td>\n    </tr>\n    <tr>\n      <td>21</td>\n      <td>0.966100</td>\n    </tr>\n    <tr>\n      <td>22</td>\n      <td>0.946600</td>\n    </tr>\n    <tr>\n      <td>23</td>\n      <td>0.925300</td>\n    </tr>\n    <tr>\n      <td>24</td>\n      <td>0.903400</td>\n    </tr>\n    <tr>\n      <td>25</td>\n      <td>0.880700</td>\n    </tr>\n    <tr>\n      <td>26</td>\n      <td>0.858000</td>\n    </tr>\n    <tr>\n      <td>27</td>\n      <td>0.834600</td>\n    </tr>\n    <tr>\n      <td>28</td>\n      <td>0.812800</td>\n    </tr>\n    <tr>\n      <td>29</td>\n      <td>0.788000</td>\n    </tr>\n    <tr>\n      <td>30</td>\n      <td>0.764500</td>\n    </tr>\n    <tr>\n      <td>31</td>\n      <td>0.741300</td>\n    </tr>\n    <tr>\n      <td>32</td>\n      <td>0.715200</td>\n    </tr>\n    <tr>\n      <td>33</td>\n      <td>0.689800</td>\n    </tr>\n    <tr>\n      <td>34</td>\n      <td>0.663300</td>\n    </tr>\n    <tr>\n      <td>35</td>\n      <td>0.635800</td>\n    </tr>\n    <tr>\n      <td>36</td>\n      <td>0.609600</td>\n    </tr>\n    <tr>\n      <td>37</td>\n      <td>0.583300</td>\n    </tr>\n    <tr>\n      <td>38</td>\n      <td>0.556200</td>\n    </tr>\n    <tr>\n      <td>39</td>\n      <td>0.529000</td>\n    </tr>\n    <tr>\n      <td>40</td>\n      <td>0.504200</td>\n    </tr>\n    <tr>\n      <td>41</td>\n      <td>0.479200</td>\n    </tr>\n    <tr>\n      <td>42</td>\n      <td>0.455800</td>\n    </tr>\n    <tr>\n      <td>43</td>\n      <td>0.434500</td>\n    </tr>\n    <tr>\n      <td>44</td>\n      <td>0.413200</td>\n    </tr>\n    <tr>\n      <td>45</td>\n      <td>0.395300</td>\n    </tr>\n    <tr>\n      <td>46</td>\n      <td>0.379000</td>\n    </tr>\n    <tr>\n      <td>47</td>\n      <td>0.365200</td>\n    </tr>\n    <tr>\n      <td>48</td>\n      <td>0.353700</td>\n    </tr>\n    <tr>\n      <td>49</td>\n      <td>0.344900</td>\n    </tr>\n    <tr>\n      <td>50</td>\n      <td>0.339100</td>\n    </tr>\n  </tbody>\n</table><p>"
          },
          "metadata": {}
        },
        {
          "execution_count": 76,
          "output_type": "execute_result",
          "data": {
            "text/plain": "TrainOutput(global_step=50, training_loss=0.8448035389184951, metrics={'train_runtime': 215.2721, 'train_samples_per_second': 0.929, 'train_steps_per_second': 0.232, 'total_flos': 1223694483456000.0, 'train_loss': 0.8448035389184951, 'epoch': 50.0})"
          },
          "metadata": {}
        }
      ]
    },
    {
      "cell_type": "markdown",
      "source": [
        "# Post Finetuning"
      ],
      "metadata": {
        "id": "7GzHoMM8bM9-"
      }
    },
    {
      "cell_type": "code",
      "source": [
        "text = f'Generate a Question related only on the Keyword - \"react\" and Bloom Taxonomy Type - \"Remember\" \\nGenerated Question: '\n",
        "device = \"cuda:0\"\n",
        "inputs = tokenizer(text, return_tensors=\"pt\").to(device)\n",
        "\n",
        "outputs = model.generate(**inputs, max_new_tokens=20)\n",
        "print(tokenizer.decode(outputs[0], skip_special_tokens=True))"
      ],
      "metadata": {
        "execution": {
          "iopub.status.busy": "2024-04-01T22:05:13.866375Z",
          "iopub.execute_input": "2024-04-01T22:05:13.866738Z",
          "iopub.status.idle": "2024-04-01T22:05:15.490660Z",
          "shell.execute_reply.started": "2024-04-01T22:05:13.866709Z",
          "shell.execute_reply": "2024-04-01T22:05:15.488297Z"
        },
        "trusted": true,
        "id": "ifosel_CbM9-",
        "outputId": "ecacdafe-493e-4f74-a137-31a83b89d1b4"
      },
      "execution_count": null,
      "outputs": [
        {
          "name": "stdout",
          "text": "Generate a Question related only on the Keyword - \"react\" and Bloom Taxonomy Type - \"Remember\" \nGenerated Question: \nWhat is the difference between a React component and a React function? \nAnswer: \n\n",
          "output_type": "stream"
        }
      ]
    },
    {
      "cell_type": "code",
      "source": [
        "text = f'Generate a Question related only on the Keyword - \"react\" and Bloom Taxonomy Type - \"Understand\" \\nGenerated Question: '\n",
        "device = \"cuda:0\"\n",
        "inputs = tokenizer(text, return_tensors=\"pt\").to(device)\n",
        "\n",
        "outputs = model.generate(**inputs, max_new_tokens=20)\n",
        "print(tokenizer.decode(outputs[0], skip_special_tokens=True))"
      ],
      "metadata": {
        "execution": {
          "iopub.status.busy": "2024-04-01T22:05:29.391218Z",
          "iopub.execute_input": "2024-04-01T22:05:29.391667Z",
          "iopub.status.idle": "2024-04-01T22:05:30.995454Z",
          "shell.execute_reply.started": "2024-04-01T22:05:29.391630Z",
          "shell.execute_reply": "2024-04-01T22:05:30.994110Z"
        },
        "trusted": true,
        "id": "CrCliOU8bM9-",
        "outputId": "7a7b1136-5580-4c6f-f222-d7e19d7e8a1e"
      },
      "execution_count": null,
      "outputs": [
        {
          "name": "stdout",
          "text": "Generate a Question related only on the Keyword - \"react\" and Bloom Taxonomy Type - \"Understand\" \nGenerated Question: \nExplain the difference between the following two terms: \n1. React and Redux \n2\n",
          "output_type": "stream"
        }
      ]
    },
    {
      "cell_type": "code",
      "source": [
        "text = f'Generate a Question related only on the Keyword - \"react\" and Bloom Taxonomy Type - \"Apply\" \\nGenerated Question: '\n",
        "device = \"cuda:0\"\n",
        "inputs = tokenizer(text, return_tensors=\"pt\").to(device)\n",
        "\n",
        "outputs = model.generate(**inputs, max_new_tokens=20)\n",
        "print(tokenizer.decode(outputs[0], skip_special_tokens=True))"
      ],
      "metadata": {
        "execution": {
          "iopub.status.busy": "2024-04-01T22:05:42.444103Z",
          "iopub.execute_input": "2024-04-01T22:05:42.444777Z",
          "iopub.status.idle": "2024-04-01T22:05:43.974926Z",
          "shell.execute_reply.started": "2024-04-01T22:05:42.444743Z",
          "shell.execute_reply": "2024-04-01T22:05:43.973618Z"
        },
        "trusted": true,
        "id": "IftUTNrKbM9-",
        "outputId": "2fb25f32-1460-4293-9bb5-80f4c74d2d47"
      },
      "execution_count": null,
      "outputs": [
        {
          "name": "stdout",
          "text": "Generate a Question related only on the Keyword - \"react\" and Bloom Taxonomy Type - \"Apply\" \nGenerated Question: \nHow to use the React Hooks?\n \n \n \n \n \n \n",
          "output_type": "stream"
        }
      ]
    },
    {
      "cell_type": "code",
      "source": [
        "text = f'Generate an MCQ Question related only on the Keyword - \"react\" and Bloom Taxonomy Type - \"Analyze\" \\nGenerated Question: '\n",
        "device = \"cuda:0\"\n",
        "inputs = tokenizer(text, return_tensors=\"pt\").to(device)\n",
        "\n",
        "outputs = model.generate(**inputs, max_new_tokens=20)\n",
        "print(tokenizer.decode(outputs[0], skip_special_tokens=True))"
      ],
      "metadata": {
        "execution": {
          "iopub.status.busy": "2024-04-01T22:06:08.337496Z",
          "iopub.execute_input": "2024-04-01T22:06:08.338232Z",
          "iopub.status.idle": "2024-04-01T22:06:09.950749Z",
          "shell.execute_reply.started": "2024-04-01T22:06:08.338200Z",
          "shell.execute_reply": "2024-04-01T22:06:09.949626Z"
        },
        "trusted": true,
        "id": "2sa8cJ4ZbM9_",
        "outputId": "fae20fda-cbb9-4ab9-b190-14e736970c0f"
      },
      "execution_count": null,
      "outputs": [
        {
          "name": "stdout",
          "text": "Generate a Question related only on the Keyword - \"react\" and Bloom Taxonomy Type - \"Analyze\" \nGenerated Question: \nHow to use the React library?\nAnswer: \nReact is a JavaScript library for building\n",
          "output_type": "stream"
        }
      ]
    },
    {
      "cell_type": "code",
      "source": [
        "text = f'Generate a Question related only on the Keyword - \"react\" and Bloom Taxonomy Type - \"Evaluate\" \\nGenerated Question: '\n",
        "device = \"cuda:0\"\n",
        "inputs = tokenizer(text, return_tensors=\"pt\").to(device)\n",
        "\n",
        "outputs = model.generate(**inputs, max_new_tokens=20)\n",
        "print(tokenizer.decode(outputs[0], skip_special_tokens=True))"
      ],
      "metadata": {
        "execution": {
          "iopub.status.busy": "2024-04-01T22:06:21.322234Z",
          "iopub.execute_input": "2024-04-01T22:06:21.323073Z",
          "iopub.status.idle": "2024-04-01T22:06:22.870676Z",
          "shell.execute_reply.started": "2024-04-01T22:06:21.323018Z",
          "shell.execute_reply": "2024-04-01T22:06:22.869700Z"
        },
        "trusted": true,
        "id": "2TfEvNYAbM9_",
        "outputId": "dab14ab2-2ead-42d2-a82b-0fb096c53cd4"
      },
      "execution_count": null,
      "outputs": [
        {
          "name": "stdout",
          "text": "Generate a Question related only on the Keyword - \"react\" and Bloom Taxonomy Type - \"Evaluate\" \nGenerated Question: \nHow to use the React Hooks?\n \nGenerated Answer: \nReact Hooks are a\n",
          "output_type": "stream"
        }
      ]
    },
    {
      "cell_type": "code",
      "source": [
        "text = f'Generate a Question related only on the Keyword - \"react\" and Bloom Taxonomy Type - \"Create\" \\nGenerated Question: '\n",
        "device = \"cuda:0\"\n",
        "inputs = tokenizer(text, return_tensors=\"pt\").to(device)\n",
        "\n",
        "outputs = model.generate(**inputs, max_new_tokens=20)\n",
        "print(tokenizer.decode(outputs[0], skip_special_tokens=True))"
      ],
      "metadata": {
        "execution": {
          "iopub.status.busy": "2024-04-01T22:06:28.556407Z",
          "iopub.execute_input": "2024-04-01T22:06:28.556770Z",
          "iopub.status.idle": "2024-04-01T22:06:30.100472Z",
          "shell.execute_reply.started": "2024-04-01T22:06:28.556741Z",
          "shell.execute_reply": "2024-04-01T22:06:30.099481Z"
        },
        "trusted": true,
        "id": "Aokd3rBpbM9_",
        "outputId": "034fa176-4eda-4e2c-e174-0e670da08a00"
      },
      "execution_count": null,
      "outputs": [
        {
          "name": "stdout",
          "text": "Generate a Question related only on the Keyword - \"react\" and Bloom Taxonomy Type - \"Create\" \nGenerated Question: \nHow to use the React Hooks?\n \n \n \n \n \n \n",
          "output_type": "stream"
        }
      ]
    },
    {
      "cell_type": "code",
      "source": [],
      "metadata": {
        "id": "GXG-zjFLbM-A"
      },
      "execution_count": null,
      "outputs": []
    }
  ]
}